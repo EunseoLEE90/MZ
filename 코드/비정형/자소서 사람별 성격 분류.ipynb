{
 "cells": [
  {
   "cell_type": "markdown",
   "id": "8d79f632",
   "metadata": {},
   "source": [
    "필요한 라이브러리 import"
   ]
  },
  {
   "cell_type": "code",
   "execution_count": 20,
   "id": "6ba8dee5",
   "metadata": {},
   "outputs": [],
   "source": [
    "import pandas as pd\n",
    "from random import choice"
   ]
  },
  {
   "cell_type": "markdown",
   "id": "6d52b235",
   "metadata": {},
   "source": [
    "데이터 load"
   ]
  },
  {
   "cell_type": "code",
   "execution_count": 3,
   "id": "6619da35",
   "metadata": {},
   "outputs": [],
   "source": [
    "data1 = pd.read_csv('./data/잡코리아_자소서_최종.csv')\n",
    "data2 = pd.read_csv('./data/BERT_자소서_분류.csv')"
   ]
  },
  {
   "cell_type": "markdown",
   "id": "578afb1c",
   "metadata": {},
   "source": [
    "데이터 병합 후 숫자형으로 변경"
   ]
  },
  {
   "cell_type": "code",
   "execution_count": 9,
   "id": "4477f333",
   "metadata": {},
   "outputs": [
    {
     "data": {
      "text/html": [
       "<div>\n",
       "<style scoped>\n",
       "    .dataframe tbody tr th:only-of-type {\n",
       "        vertical-align: middle;\n",
       "    }\n",
       "\n",
       "    .dataframe tbody tr th {\n",
       "        vertical-align: top;\n",
       "    }\n",
       "\n",
       "    .dataframe thead th {\n",
       "        text-align: right;\n",
       "    }\n",
       "</style>\n",
       "<table border=\"1\" class=\"dataframe\">\n",
       "  <thead>\n",
       "    <tr style=\"text-align: right;\">\n",
       "      <th></th>\n",
       "      <th>company</th>\n",
       "      <th>Q</th>\n",
       "      <th>A</th>\n",
       "      <th>cCON</th>\n",
       "      <th>cEXT</th>\n",
       "      <th>cNEU</th>\n",
       "    </tr>\n",
       "  </thead>\n",
       "  <tbody>\n",
       "    <tr>\n",
       "      <th>0</th>\n",
       "      <td>(주)두산</td>\n",
       "      <td>본인의 장/단점과 입사 후 장점은 어떻게 활용되고, 단점은 어떻게 보완 할 수 있겠...</td>\n",
       "      <td>꾸준함꾸준함은 저 자신을 한 단어로 정의한다고 할 때 가장 먼저 표현할 수 있는 단...</td>\n",
       "      <td>1</td>\n",
       "      <td>-1</td>\n",
       "      <td>1</td>\n",
       "    </tr>\n",
       "    <tr>\n",
       "      <th>1</th>\n",
       "      <td>(주)두산</td>\n",
       "      <td>본인의 장/단점과 입사 후 장점은 어떻게 활용되고, 단점은 어떻게 보완 할 수 있겠...</td>\n",
       "      <td>어렸을 때부터 무엇을 하던 남들보다 꼼꼼하게 해내고 싶은 마음에 무엇이든 신중하고 ...</td>\n",
       "      <td>1</td>\n",
       "      <td>-1</td>\n",
       "      <td>1</td>\n",
       "    </tr>\n",
       "    <tr>\n",
       "      <th>2</th>\n",
       "      <td>(주)두산</td>\n",
       "      <td>본인의 장/단점과 입사 후 장점은 어떻게 활용되고, 단점은 어떻게 보완 할 수 있겠...</td>\n",
       "      <td>때문에 무슨 일이든 시작한다면 도중에 무책임하게 피하지 않고 끝까지 맡은 일을 진행...</td>\n",
       "      <td>1</td>\n",
       "      <td>-1</td>\n",
       "      <td>-1</td>\n",
       "    </tr>\n",
       "    <tr>\n",
       "      <th>3</th>\n",
       "      <td>(주)두산</td>\n",
       "      <td>본인의 장/단점과 입사 후 장점은 어떻게 활용되고, 단점은 어떻게 보완 할 수 있겠...</td>\n",
       "      <td>이러한 성격은 공동체 생활에 있어 타인과의 소통과 이를 공감해주는 포용을 중요하게 ...</td>\n",
       "      <td>1</td>\n",
       "      <td>-1</td>\n",
       "      <td>-1</td>\n",
       "    </tr>\n",
       "    <tr>\n",
       "      <th>4</th>\n",
       "      <td>(주)두산</td>\n",
       "      <td>본인의 장/단점과 입사 후 장점은 어떻게 활용되고, 단점은 어떻게 보완 할 수 있겠...</td>\n",
       "      <td>위와 같은 관점으로 행동하기 때문에 간혹 자신의 주관이 흐려질 우려가 있지만, 타인...</td>\n",
       "      <td>1</td>\n",
       "      <td>-1</td>\n",
       "      <td>-1</td>\n",
       "    </tr>\n",
       "    <tr>\n",
       "      <th>...</th>\n",
       "      <td>...</td>\n",
       "      <td>...</td>\n",
       "      <td>...</td>\n",
       "      <td>...</td>\n",
       "      <td>...</td>\n",
       "      <td>...</td>\n",
       "    </tr>\n",
       "    <tr>\n",
       "      <th>11794</th>\n",
       "      <td>과학기술인공제회</td>\n",
       "      <td>성격의 장단점 및 생활신조</td>\n",
       "      <td>고교 3학년 선생님이 학급임원이 아니었던 저에게 학급공금을 맡기고 관리하시면서, 네...</td>\n",
       "      <td>1</td>\n",
       "      <td>-1</td>\n",
       "      <td>-1</td>\n",
       "    </tr>\n",
       "    <tr>\n",
       "      <th>11795</th>\n",
       "      <td>과학기술인공제회</td>\n",
       "      <td>성격의 장단점 및 생활신조</td>\n",
       "      <td>온정이 미덕인 우리나라 풍조에서 종종 저에게 편법적인 요구를 하시는 분들이 있었습니다 .</td>\n",
       "      <td>1</td>\n",
       "      <td>-1</td>\n",
       "      <td>1</td>\n",
       "    </tr>\n",
       "    <tr>\n",
       "      <th>11796</th>\n",
       "      <td>과학기술인공제회</td>\n",
       "      <td>성격의 장단점 및 생활신조</td>\n",
       "      <td>저보다 연장자이시거나 상급자일 때는 더욱 어렵습니다.</td>\n",
       "      <td>1</td>\n",
       "      <td>-1</td>\n",
       "      <td>-1</td>\n",
       "    </tr>\n",
       "    <tr>\n",
       "      <th>11797</th>\n",
       "      <td>과학기술인공제회</td>\n",
       "      <td>성격의 장단점 및 생활신조</td>\n",
       "      <td>사소한 것이라 생각하셔서 혹은 문제없을 것이란 이유로 본인 편의를 봐주시길 바라시는...</td>\n",
       "      <td>1</td>\n",
       "      <td>-1</td>\n",
       "      <td>1</td>\n",
       "    </tr>\n",
       "    <tr>\n",
       "      <th>11798</th>\n",
       "      <td>과학기술인공제회</td>\n",
       "      <td>성격의 장단점 및 생활신조</td>\n",
       "      <td>그럴 때마다 저는 심적으로 힘든 입장이지만 원리와 원칙에 충실하였습니다.글자수 1,...</td>\n",
       "      <td>1</td>\n",
       "      <td>-1</td>\n",
       "      <td>-1</td>\n",
       "    </tr>\n",
       "  </tbody>\n",
       "</table>\n",
       "<p>11799 rows × 6 columns</p>\n",
       "</div>"
      ],
      "text/plain": [
       "        company                                                  Q  \\\n",
       "0         (주)두산  본인의 장/단점과 입사 후 장점은 어떻게 활용되고, 단점은 어떻게 보완 할 수 있겠...   \n",
       "1         (주)두산  본인의 장/단점과 입사 후 장점은 어떻게 활용되고, 단점은 어떻게 보완 할 수 있겠...   \n",
       "2         (주)두산  본인의 장/단점과 입사 후 장점은 어떻게 활용되고, 단점은 어떻게 보완 할 수 있겠...   \n",
       "3         (주)두산  본인의 장/단점과 입사 후 장점은 어떻게 활용되고, 단점은 어떻게 보완 할 수 있겠...   \n",
       "4         (주)두산  본인의 장/단점과 입사 후 장점은 어떻게 활용되고, 단점은 어떻게 보완 할 수 있겠...   \n",
       "...         ...                                                ...   \n",
       "11794  과학기술인공제회                                     성격의 장단점 및 생활신조   \n",
       "11795  과학기술인공제회                                     성격의 장단점 및 생활신조   \n",
       "11796  과학기술인공제회                                     성격의 장단점 및 생활신조   \n",
       "11797  과학기술인공제회                                     성격의 장단점 및 생활신조   \n",
       "11798  과학기술인공제회                                     성격의 장단점 및 생활신조   \n",
       "\n",
       "                                                       A  cCON  cEXT  cNEU  \n",
       "0      꾸준함꾸준함은 저 자신을 한 단어로 정의한다고 할 때 가장 먼저 표현할 수 있는 단...     1    -1     1  \n",
       "1      어렸을 때부터 무엇을 하던 남들보다 꼼꼼하게 해내고 싶은 마음에 무엇이든 신중하고 ...     1    -1     1  \n",
       "2      때문에 무슨 일이든 시작한다면 도중에 무책임하게 피하지 않고 끝까지 맡은 일을 진행...     1    -1    -1  \n",
       "3      이러한 성격은 공동체 생활에 있어 타인과의 소통과 이를 공감해주는 포용을 중요하게 ...     1    -1    -1  \n",
       "4      위와 같은 관점으로 행동하기 때문에 간혹 자신의 주관이 흐려질 우려가 있지만, 타인...     1    -1    -1  \n",
       "...                                                  ...   ...   ...   ...  \n",
       "11794  고교 3학년 선생님이 학급임원이 아니었던 저에게 학급공금을 맡기고 관리하시면서, 네...     1    -1    -1  \n",
       "11795  온정이 미덕인 우리나라 풍조에서 종종 저에게 편법적인 요구를 하시는 분들이 있었습니다 .     1    -1     1  \n",
       "11796                      저보다 연장자이시거나 상급자일 때는 더욱 어렵습니다.     1    -1    -1  \n",
       "11797  사소한 것이라 생각하셔서 혹은 문제없을 것이란 이유로 본인 편의를 봐주시길 바라시는...     1    -1     1  \n",
       "11798  그럴 때마다 저는 심적으로 힘든 입장이지만 원리와 원칙에 충실하였습니다.글자수 1,...     1    -1    -1  \n",
       "\n",
       "[11799 rows x 6 columns]"
      ]
     },
     "execution_count": 9,
     "metadata": {},
     "output_type": "execute_result"
    }
   ],
   "source": [
    "data1['cCON'] = data2['cCON']\n",
    "data1['cEXT'] = data2['cEXT']\n",
    "data1['cNEU'] = data2['cNEU']\n",
    "data1 = data1.replace('y', 1)\n",
    "data1 = data1.replace('n', -1)\n",
    "data1"
   ]
  },
  {
   "cell_type": "code",
   "execution_count": null,
   "id": "d5f675c4",
   "metadata": {},
   "outputs": [],
   "source": []
  },
  {
   "cell_type": "markdown",
   "id": "ecf173eb",
   "metadata": {},
   "source": [
    "사람별 성격 정의 함수"
   ]
  },
  {
   "cell_type": "code",
   "execution_count": 29,
   "id": "1362eb19",
   "metadata": {},
   "outputs": [],
   "source": [
    "def setMean(total):\n",
    "    if total > 0: # 총합이 양수면 y\n",
    "        return 'y'\n",
    "    if total < 0: # 총합이 음수면 n\n",
    "        return 'n'\n",
    "    return choice(['y', 'n']) # 총합이 0이면 y, n 중 랜덤 선택"
   ]
  },
  {
   "cell_type": "code",
   "execution_count": null,
   "id": "4ac32a46",
   "metadata": {},
   "outputs": [],
   "source": []
  },
  {
   "cell_type": "markdown",
   "id": "b60339ce",
   "metadata": {},
   "source": [
    "데이터프레임 생성"
   ]
  },
  {
   "cell_type": "code",
   "execution_count": 43,
   "id": "c04f19da",
   "metadata": {},
   "outputs": [
    {
     "data": {
      "text/html": [
       "<div>\n",
       "<style scoped>\n",
       "    .dataframe tbody tr th:only-of-type {\n",
       "        vertical-align: middle;\n",
       "    }\n",
       "\n",
       "    .dataframe tbody tr th {\n",
       "        vertical-align: top;\n",
       "    }\n",
       "\n",
       "    .dataframe thead th {\n",
       "        text-align: right;\n",
       "    }\n",
       "</style>\n",
       "<table border=\"1\" class=\"dataframe\">\n",
       "  <thead>\n",
       "    <tr style=\"text-align: right;\">\n",
       "      <th></th>\n",
       "      <th>company</th>\n",
       "      <th>Q</th>\n",
       "      <th>cCON</th>\n",
       "      <th>cEXT</th>\n",
       "      <th>cNEU</th>\n",
       "    </tr>\n",
       "  </thead>\n",
       "  <tbody>\n",
       "  </tbody>\n",
       "</table>\n",
       "</div>"
      ],
      "text/plain": [
       "Empty DataFrame\n",
       "Columns: [company, Q, cCON, cEXT, cNEU]\n",
       "Index: []"
      ]
     },
     "execution_count": 43,
     "metadata": {},
     "output_type": "execute_result"
    }
   ],
   "source": [
    "data = pd.DataFrame(columns = ['company', 'Q', 'cCON', 'cEXT', 'cNEU'])\n",
    "data"
   ]
  },
  {
   "cell_type": "markdown",
   "id": "98443852",
   "metadata": {},
   "source": [
    "사람별 성격 분류: 회사&질문이 같으면 같은 사람으로 판별 후 성격 분류"
   ]
  },
  {
   "cell_type": "code",
   "execution_count": 44,
   "id": "d283c6bf",
   "metadata": {},
   "outputs": [],
   "source": [
    "company, question, c, e, n = data1.loc[0][0], data1.loc[0][1], 0, 0, 0\n",
    "for i in range(len(data1)):\n",
    "    target = data1.loc[i]\n",
    "    if (company, question) == (target[0], target[1]):\n",
    "        c += int(target[3])\n",
    "        e += int(target[4])\n",
    "        n += int(target[5])\n",
    "    else:\n",
    "        data.loc[len(data)] = [company, question, setMean(c), setMean(e), setMean(n)]\n",
    "        company, question, c, e, n = target[0], target[1], 0, 0, 0\n",
    "data.loc[len(data)] = [company, question, setMean(c), setMean(e), setMean(n)]"
   ]
  },
  {
   "cell_type": "code",
   "execution_count": null,
   "id": "e7a9ca2e",
   "metadata": {},
   "outputs": [],
   "source": []
  },
  {
   "cell_type": "code",
   "execution_count": 48,
   "id": "69e62d8f",
   "metadata": {},
   "outputs": [
    {
     "data": {
      "text/html": [
       "<div>\n",
       "<style scoped>\n",
       "    .dataframe tbody tr th:only-of-type {\n",
       "        vertical-align: middle;\n",
       "    }\n",
       "\n",
       "    .dataframe tbody tr th {\n",
       "        vertical-align: top;\n",
       "    }\n",
       "\n",
       "    .dataframe thead th {\n",
       "        text-align: right;\n",
       "    }\n",
       "</style>\n",
       "<table border=\"1\" class=\"dataframe\">\n",
       "  <thead>\n",
       "    <tr style=\"text-align: right;\">\n",
       "      <th></th>\n",
       "      <th>cCON</th>\n",
       "      <th>cEXT</th>\n",
       "      <th>cNEU</th>\n",
       "    </tr>\n",
       "  </thead>\n",
       "  <tbody>\n",
       "    <tr>\n",
       "      <th>0</th>\n",
       "      <td>y</td>\n",
       "      <td>n</td>\n",
       "      <td>n</td>\n",
       "    </tr>\n",
       "    <tr>\n",
       "      <th>1</th>\n",
       "      <td>y</td>\n",
       "      <td>y</td>\n",
       "      <td>n</td>\n",
       "    </tr>\n",
       "    <tr>\n",
       "      <th>2</th>\n",
       "      <td>y</td>\n",
       "      <td>n</td>\n",
       "      <td>n</td>\n",
       "    </tr>\n",
       "    <tr>\n",
       "      <th>3</th>\n",
       "      <td>y</td>\n",
       "      <td>n</td>\n",
       "      <td>n</td>\n",
       "    </tr>\n",
       "    <tr>\n",
       "      <th>4</th>\n",
       "      <td>y</td>\n",
       "      <td>n</td>\n",
       "      <td>n</td>\n",
       "    </tr>\n",
       "    <tr>\n",
       "      <th>...</th>\n",
       "      <td>...</td>\n",
       "      <td>...</td>\n",
       "      <td>...</td>\n",
       "    </tr>\n",
       "    <tr>\n",
       "      <th>1457</th>\n",
       "      <td>y</td>\n",
       "      <td>n</td>\n",
       "      <td>n</td>\n",
       "    </tr>\n",
       "    <tr>\n",
       "      <th>1458</th>\n",
       "      <td>y</td>\n",
       "      <td>n</td>\n",
       "      <td>n</td>\n",
       "    </tr>\n",
       "    <tr>\n",
       "      <th>1459</th>\n",
       "      <td>y</td>\n",
       "      <td>n</td>\n",
       "      <td>n</td>\n",
       "    </tr>\n",
       "    <tr>\n",
       "      <th>1460</th>\n",
       "      <td>y</td>\n",
       "      <td>n</td>\n",
       "      <td>n</td>\n",
       "    </tr>\n",
       "    <tr>\n",
       "      <th>1461</th>\n",
       "      <td>y</td>\n",
       "      <td>n</td>\n",
       "      <td>n</td>\n",
       "    </tr>\n",
       "  </tbody>\n",
       "</table>\n",
       "<p>1462 rows × 3 columns</p>\n",
       "</div>"
      ],
      "text/plain": [
       "     cCON cEXT cNEU\n",
       "0       y    n    n\n",
       "1       y    y    n\n",
       "2       y    n    n\n",
       "3       y    n    n\n",
       "4       y    n    n\n",
       "...   ...  ...  ...\n",
       "1457    y    n    n\n",
       "1458    y    n    n\n",
       "1459    y    n    n\n",
       "1460    y    n    n\n",
       "1461    y    n    n\n",
       "\n",
       "[1462 rows x 3 columns]"
      ]
     },
     "execution_count": 48,
     "metadata": {},
     "output_type": "execute_result"
    }
   ],
   "source": [
    "df = data[['cCON', 'cEXT', 'cNEU']] # row당 한 사람의 성격 데이터\n",
    "df"
   ]
  },
  {
   "cell_type": "markdown",
   "id": "a1dcfda4",
   "metadata": {},
   "source": [
    "데이터 save"
   ]
  },
  {
   "cell_type": "code",
   "execution_count": null,
   "id": "b436f121",
   "metadata": {},
   "outputs": [],
   "source": [
    "df.to_csv('자소서_사람별_성격.csv', index=False)"
   ]
  },
  {
   "cell_type": "code",
   "execution_count": null,
   "id": "59fe3284",
   "metadata": {},
   "outputs": [],
   "source": []
  }
 ],
 "metadata": {
  "kernelspec": {
   "display_name": "Python 3",
   "language": "python",
   "name": "python3"
  },
  "language_info": {
   "codemirror_mode": {
    "name": "ipython",
    "version": 3
   },
   "file_extension": ".py",
   "mimetype": "text/x-python",
   "name": "python",
   "nbconvert_exporter": "python",
   "pygments_lexer": "ipython3",
   "version": "3.9.6"
  }
 },
 "nbformat": 4,
 "nbformat_minor": 5
}
